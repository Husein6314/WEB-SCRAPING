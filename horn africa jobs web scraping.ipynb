{
 "cells": [
  {
   "cell_type": "code",
   "execution_count": 1,
   "id": "63040fdb",
   "metadata": {},
   "outputs": [],
   "source": [
    "#importing important libraries\n",
    "from bs4 import BeautifulSoup\n",
    "import requests\n",
    "from csv import writer\n",
    "import time"
   ]
  },
  {
   "cell_type": "code",
   "execution_count": null,
   "id": "6a739133",
   "metadata": {},
   "outputs": [],
   "source": [
    "def find_job():\n",
    "\n",
    "    url = 'https://www.hornafricajobs.com/jobs'\n",
    "    page = requests.get(url)\n",
    "\n",
    "    soup = BeautifulSoup(page.content,\"html.parser\")\n",
    "\n",
    "    lists= soup.find_all('div', class_ = 'list-content')\n",
    "\n",
    "    with open('jobs.csv', 'w', encoding = 'utf8', newline='') as f:\n",
    "        thewriter = writer(f)\n",
    "        header = ['JOB_NAME', 'DEADLINE_DATE', 'EMPLOYER', 'LOCATION', 'JOB_TIME', 'VIEWS']\n",
    "        thewriter.writerow(header)\n",
    "        for list in lists:\n",
    "            job_name = list.find('div', class_= 'lst-hed').text\n",
    "            deadline_date = list.find('span', class_= 'dedline-date').text\n",
    "            employer = list.find('a', target= '_blank').text\n",
    "            location = list.find('span', class_= 'loc-icon').text\n",
    "            job_time = list.find('div', class_= 'emp-type').text\n",
    "            num_of_views = list.find('div', class_= 'views').text\n",
    "\n",
    "            info = [job_name,deadline_date,employer,location,job_time,num_of_views]\n",
    "            thewriter.writerow(info)\n",
    "\n",
    "if __name__ == '__main__':\n",
    "    while True:\n",
    "        find_job()\n",
    "        waiting_time = 2\n",
    "        print(f'Waiting {waiting_time} minutes')\n",
    "        time.sleep(waiting_time * 60)"
   ]
  }
 ],
 "metadata": {
  "kernelspec": {
   "display_name": "Python 3 (ipykernel)",
   "language": "python",
   "name": "python3"
  },
  "language_info": {
   "codemirror_mode": {
    "name": "ipython",
    "version": 3
   },
   "file_extension": ".py",
   "mimetype": "text/x-python",
   "name": "python",
   "nbconvert_exporter": "python",
   "pygments_lexer": "ipython3",
   "version": "3.9.13"
  }
 },
 "nbformat": 4,
 "nbformat_minor": 5
}
